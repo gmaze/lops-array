{
 "cells": [
  {
   "cell_type": "markdown",
   "metadata": {},
   "source": [
    "# indexing and selecting data\n",
    "\n",
    "[xarray doc](http://xarray.pydata.org/en/stable/indexing.html#)\n"
   ]
  },
  {
   "cell_type": "code",
   "execution_count": 3,
   "metadata": {},
   "outputs": [],
   "source": [
    "import xarray as xr\n",
    "import numpy as np"
   ]
  },
  {
   "cell_type": "code",
   "execution_count": 17,
   "metadata": {},
   "outputs": [
    {
     "name": "stdout",
     "output_type": "stream",
     "text": [
      "<xarray.DataArray 'v1' (y: 5, x: 8)>\n",
      "array([[ 0,  1,  2,  3,  4,  5,  6,  7],\n",
      "       [ 8,  9, 10, 11, 12, 13, 14, 15],\n",
      "       [16, 17, 18, 19, 20, 21, 22, 23],\n",
      "       [24, 25, 26, 27, 28, 29, 30, 31],\n",
      "       [32, 33, 34, 35, 36, 37, 38, 39]])\n",
      "Dimensions without coordinates: y, x\n",
      "<xarray.DataArray 'v2' (y: 5, x: 8)>\n",
      "array([[ 1.,  1.,  1.,  1.,  1.,  1.,  1.,  1.],\n",
      "       [ 1.,  1.,  1.,  1.,  1.,  1.,  1.,  1.],\n",
      "       [ 1.,  1.,  1.,  1.,  1.,  1.,  1.,  1.],\n",
      "       [ 1.,  1.,  1.,  1.,  1.,  1.,  1.,  1.],\n",
      "       [ 1.,  1.,  1.,  1.,  1.,  1.,  1.,  1.]])\n",
      "Dimensions without coordinates: y, x\n",
      "<xarray.DataArray 'v1+v2' (y: 5, x: 8)>\n",
      "array([[  1.,   2.,   3.,   4.,   5.,   6.,   7.,   8.],\n",
      "       [  9.,  10.,  11.,  12.,  13.,  14.,  15.,  16.],\n",
      "       [ 17.,  18.,  19.,  20.,  21.,  22.,  23.,  24.],\n",
      "       [ 25.,  26.,  27.,  28.,  29.,  30.,  31.,  32.],\n",
      "       [ 33.,  34.,  35.,  36.,  37.,  38.,  39.,  40.]])\n",
      "Dimensions without coordinates: y, x\n"
     ]
    }
   ],
   "source": [
    "v1 = xr.DataArray(np.arange(5*8).reshape((5, 8)), dims={'x':np.arange(8),'y':np.arange(5)},name='v1')\n",
    "v2 = xr.DataArray(np.ones((5, 8)), dims={'x':np.arange(0,9),'y':np.arange(5)},name='v2')\n",
    "print v1\n",
    "print v2\n",
    "print (v1+v2).rename('v1+v2')\n"
   ]
  },
  {
   "cell_type": "code",
   "execution_count": null,
   "metadata": {},
   "outputs": [],
   "source": []
  },
  {
   "cell_type": "code",
   "execution_count": null,
   "metadata": {},
   "outputs": [],
   "source": []
  }
 ],
 "metadata": {
  "kernelspec": {
   "display_name": "Python 2",
   "language": "python",
   "name": "python2"
  },
  "language_info": {
   "codemirror_mode": {
    "name": "ipython",
    "version": 2
   },
   "file_extension": ".py",
   "mimetype": "text/x-python",
   "name": "python",
   "nbconvert_exporter": "python",
   "pygments_lexer": "ipython2",
   "version": "2.7.14"
  }
 },
 "nbformat": 4,
 "nbformat_minor": 2
}
