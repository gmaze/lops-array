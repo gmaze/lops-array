{
 "cells": [
  {
   "cell_type": "markdown",
   "metadata": {},
   "source": [
    "# indexing and selecting data\n",
    "\n",
    "From [xarray doc](http://xarray.pydata.org/en/stable/indexing.html#) :\n",
    "\n",
    "<table>\n",
    "<col width=\"18%\" />\n",
    "<col width=\"14%\" />\n",
    "<col width=\"33%\" />\n",
    "<col width=\"33%\" />\n",
    "<thead>\n",
    "<tr class=\"header\">\n",
    "<th align=\"left\">Dimension lookup</th>\n",
    "<th align=\"left\">Index lookup</th>\n",
    "<th align=\"left\"><code>DataArray</code> syntax</th>\n",
    "<th align=\"left\"><code>Dataset</code> syntax</th>\n",
    "</tr>\n",
    "</thead>\n",
    "<tbody>\n",
    "<tr class=\"odd\">\n",
    "<td align=\"left\">Positional</td>\n",
    "<td align=\"left\">By integer</td>\n",
    "<td align=\"left\"><code>arr[:, 0]</code></td>\n",
    "<td align=\"left\"><em>not available</em></td>\n",
    "</tr>\n",
    "<tr class=\"even\">\n",
    "<td align=\"left\">Positional</td>\n",
    "<td align=\"left\">By label</td>\n",
    "<td align=\"left\"><code>arr.loc[:, 'IA']</code></td>\n",
    "<td align=\"left\"><em>not available</em></td>\n",
    "</tr>\n",
    "<tr class=\"odd\">\n",
    "<td align=\"left\">By name</td>\n",
    "<td align=\"left\">By integer</td>\n",
    "<td align=\"left\"><code>arr.isel(space=0)</code> or <code>arr[dict(space=0)]</code></td>\n",
    "<td align=\"left\"><code>ds.isel(space=0)</code> or <code>ds[dict(space=0)]</code></td>\n",
    "</tr>\n",
    "<tr class=\"even\">\n",
    "<td align=\"left\">By name</td>\n",
    "<td align=\"left\">By label</td>\n",
    "<td align=\"left\"><code>arr.sel(space='IA')</code> or <code>arr.loc[dict(space='IA')]</code></td>\n",
    "<td align=\"left\"><code>ds.sel(space='IA')</code> or <code>ds.loc[dict(space='IA')]</code></td>\n",
    "</tr>\n",
    "</tbody>\n",
    "</table>\n"
   ]
  },
  {
   "cell_type": "code",
   "execution_count": 1,
   "metadata": {},
   "outputs": [],
   "source": [
    "import xarray as xr\n",
    "import numpy as np"
   ]
  },
  {
   "cell_type": "code",
   "execution_count": 26,
   "metadata": {},
   "outputs": [
    {
     "name": "stdout",
     "output_type": "stream",
     "text": [
      "<xarray.DataArray 'v1' (x: 3, y: 4)>\n",
      "array([[ 0,  1,  2,  3],\n",
      "       [ 4,  5,  6,  7],\n",
      "       [ 8,  9, 10, 11]])\n",
      "Coordinates:\n",
      "  * y        (y) int64 0 1 2 3\n",
      "  * x        (x) float64 0.5 1.5 2.5\n",
      "<xarray.DataArray 'v2' (x: 3, y: 6)>\n",
      "array([[ 1.,  1.,  1.,  1.,  1.,  1.],\n",
      "       [ 1.,  1.,  1.,  1.,  1.,  1.],\n",
      "       [ 1.,  1.,  1.,  1.,  1.,  1.]])\n",
      "Coordinates:\n",
      "  * y        (y) int64 0 1 2 3 4 5\n",
      "  * x        (x) float64 0.5 1.5 2.5\n",
      "<xarray.DataArray 'v1+v2' (x: 3, y: 4)>\n",
      "array([[  1.,   2.,   3.,   4.],\n",
      "       [  5.,   6.,   7.,   8.],\n",
      "       [  9.,  10.,  11.,  12.]])\n",
      "Coordinates:\n",
      "  * y        (y) int64 0 1 2 3\n",
      "  * x        (x) float64 0.5 1.5 2.5\n"
     ]
    }
   ],
   "source": [
    "# automatic alignment subset data\n",
    "nx, ny = 3, 4\n",
    "v1 = xr.DataArray(np.arange(nx*ny).reshape((nx, ny)), \\\n",
    "                  coords={'x':.5+np.arange(nx),'y':np.arange(ny)},dims=['x','y'],name='v1')\n",
    "print v1\n",
    "v2 = xr.DataArray(np.ones((nx, ny+2)), coords={'x':.5+np.arange(nx),'y':np.arange(ny+2)},dims=['x','y'],name='v2')\n",
    "print v2\n",
    "print (v1+v2).rename('v1+v2')"
   ]
  },
  {
   "cell_type": "code",
   "execution_count": 27,
   "metadata": {},
   "outputs": [
    {
     "name": "stdout",
     "output_type": "stream",
     "text": [
      "<xarray.DataArray 'v1' (x: 3, y: 6)>\n",
      "array([[  0.,   1.,   2.,   3.,  nan,  nan],\n",
      "       [  4.,   5.,   6.,   7.,  nan,  nan],\n",
      "       [  8.,   9.,  10.,  11.,  nan,  nan]])\n",
      "Coordinates:\n",
      "  * y        (y) int64 0 1 2 3 4 5\n",
      "  * x        (x) float64 0.5 1.5 2.5\n"
     ]
    }
   ],
   "source": [
    "# redindexing fill with NaN when expanding\n",
    "print v1.reindex_like(v2)"
   ]
  },
  {
   "cell_type": "code",
   "execution_count": 29,
   "metadata": {},
   "outputs": [
    {
     "name": "stdout",
     "output_type": "stream",
     "text": [
      "<xarray.DataArray 'v1' (x: 3, y: 4)>\n",
      "array([[ 0,  1,  2,  3],\n",
      "       [ 4,  5,  6,  7],\n",
      "       [ 8,  9, 10, 11]])\n",
      "Coordinates:\n",
      "  * y        (y) int64 2 3 4 5\n",
      "  * x        (x) float64 0.5 1.5 2.5\n"
     ]
    }
   ],
   "source": [
    "# shift indexes and ignore alignment\n",
    "v3 = v1\n",
    "v3['y']=v3['y']+1\n",
    "print v3\n"
   ]
  },
  {
   "cell_type": "code",
   "execution_count": null,
   "metadata": {},
   "outputs": [],
   "source": []
  }
 ],
 "metadata": {
  "kernelspec": {
   "display_name": "Python 2",
   "language": "python",
   "name": "python2"
  },
  "language_info": {
   "codemirror_mode": {
    "name": "ipython",
    "version": 2
   },
   "file_extension": ".py",
   "mimetype": "text/x-python",
   "name": "python",
   "nbconvert_exporter": "python",
   "pygments_lexer": "ipython2",
   "version": "2.7.14"
  }
 },
 "nbformat": 4,
 "nbformat_minor": 2
}
