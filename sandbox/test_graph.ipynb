{
 "cells": [
  {
   "cell_type": "markdown",
   "metadata": {},
   "source": [
    "# test graph.dot\n",
    "from [here](http://dask.pydata.org/en/latest/inspect.html)"
   ]
  },
  {
   "cell_type": "code",
   "execution_count": 1,
   "metadata": {},
   "outputs": [
    {
     "data": {
      "text/plain": [
       "{('wrapped-85a371242a70a115e32f9b0d89fdb08d',\n",
       "  0,\n",
       "  0): (functools.partial(<function ones at 0x2aaab6dba7b8>, dtype='f8'), (5,\n",
       "   5)),\n",
       " ('wrapped-85a371242a70a115e32f9b0d89fdb08d',\n",
       "  0,\n",
       "  1): (functools.partial(<function ones at 0x2aaab6dba7b8>, dtype='f8'), (5,\n",
       "   5)),\n",
       " ('wrapped-85a371242a70a115e32f9b0d89fdb08d',\n",
       "  0,\n",
       "  2): (functools.partial(<function ones at 0x2aaab6dba7b8>, dtype='f8'), (5,\n",
       "   5))}"
      ]
     },
     "execution_count": 1,
     "metadata": {},
     "output_type": "execute_result"
    }
   ],
   "source": [
    "import dask.array as da\n",
    "x = da.ones((5, 15), chunks=(5, 5))\n",
    "dict(x.dask)"
   ]
  },
  {
   "cell_type": "code",
   "execution_count": 2,
   "metadata": {},
   "outputs": [
    {
     "data": {
      "text/plain": [
       "{('add-4b14ed192bb6756d3c5634267a30b173', 0, 0): (<function _operator.add>,\n",
       "  ('wrapped-85a371242a70a115e32f9b0d89fdb08d', 0, 0),\n",
       "  1),\n",
       " ('add-4b14ed192bb6756d3c5634267a30b173', 0, 1): (<function _operator.add>,\n",
       "  ('wrapped-85a371242a70a115e32f9b0d89fdb08d', 0, 1),\n",
       "  1),\n",
       " ('add-4b14ed192bb6756d3c5634267a30b173', 0, 2): (<function _operator.add>,\n",
       "  ('wrapped-85a371242a70a115e32f9b0d89fdb08d', 0, 2),\n",
       "  1),\n",
       " ('wrapped-85a371242a70a115e32f9b0d89fdb08d',\n",
       "  0,\n",
       "  0): (functools.partial(<function ones at 0x2aaab6dba7b8>, dtype='f8'), (5,\n",
       "   5)),\n",
       " ('wrapped-85a371242a70a115e32f9b0d89fdb08d',\n",
       "  0,\n",
       "  1): (functools.partial(<function ones at 0x2aaab6dba7b8>, dtype='f8'), (5,\n",
       "   5)),\n",
       " ('wrapped-85a371242a70a115e32f9b0d89fdb08d',\n",
       "  0,\n",
       "  2): (functools.partial(<function ones at 0x2aaab6dba7b8>, dtype='f8'), (5,\n",
       "   5))}"
      ]
     },
     "execution_count": 2,
     "metadata": {},
     "output_type": "execute_result"
    }
   ],
   "source": [
    "dict((x + 1).dask)"
   ]
  },
  {
   "cell_type": "code",
   "execution_count": 3,
   "metadata": {},
   "outputs": [
    {
     "data": {
      "image/png": "[encoded data removed]",
      "text/plain": [
       "<IPython.core.display.Image object>"
      ]
     },
     "execution_count": 3,
     "metadata": {},
     "output_type": "execute_result"
    }
   ],
   "source": [
    "d = (x + 1).dask\n",
    "from dask.dot import dot_graph\n",
    "dot_graph(d)"
   ]
  },
  {
   "cell_type": "code",
   "execution_count": 4,
   "metadata": {},
   "outputs": [
    {
     "name": "stdout",
     "output_type": "stream",
     "text": [
      "3.6.3 | packaged by conda-forge | (default, Nov  4 2017, 10:10:56) \n",
      "[GCC 4.8.2 20140120 (Red Hat 4.8.2-15)]\n"
     ]
    }
   ],
   "source": [
    "import sys\n",
    "print(sys.version)"
   ]
  },
  {
   "cell_type": "code",
   "execution_count": 5,
   "metadata": {},
   "outputs": [
    {
     "name": "stdout",
     "output_type": "stream",
     "text": [
      "0.15.4\n"
     ]
    }
   ],
   "source": [
    "import dask\n",
    "print(dask.__version__)"
   ]
  },
  {
   "cell_type": "code",
   "execution_count": null,
   "metadata": {},
   "outputs": [],
   "source": []
  }
 ],
 "metadata": {
  "kernelspec": {
   "display_name": "Python 3",
   "language": "python",
   "name": "python3"
  },
  "language_info": {
   "codemirror_mode": {
    "name": "ipython",
    "version": 3
   },
   "file_extension": ".py",
   "mimetype": "text/x-python",
   "name": "python",
   "nbconvert_exporter": "python",
   "pygments_lexer": "ipython3",
   "version": "3.6.3"
  }
 },
 "nbformat": 4,
 "nbformat_minor": 2
}
